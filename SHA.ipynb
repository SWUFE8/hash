{
 "cells": [
  {
   "cell_type": "markdown",
   "metadata": {},
   "source": [
    "# 金融科技-区块链-HASH初探"
   ]
  },
  {
   "cell_type": "markdown",
   "metadata": {},
   "source": [
    "- 什么是加密\n",
    "- HASH是什么\n",
    "- HASH的特征"
   ]
  },
  {
   "cell_type": "markdown",
   "metadata": {},
   "source": [
    "## 理解HASH的特性"
   ]
  },
  {
   "cell_type": "markdown",
   "metadata": {},
   "source": [
    "\n",
    "- 正向快速\n",
    "- 逆向困难\n",
    "- 输入敏感\n",
    "- 冲突避免"
   ]
  },
  {
   "cell_type": "markdown",
   "metadata": {},
   "source": [
    "# 练习演示"
   ]
  },
  {
   "cell_type": "markdown",
   "metadata": {},
   "source": [
    "常见加密hash函数：\n",
    "\n",
    "-md5 -SHA1/256/512 -HMAC"
   ]
  },
  {
   "cell_type": "code",
   "execution_count": 49,
   "metadata": {},
   "outputs": [],
   "source": [
    "import hashlib "
   ]
  },
  {
   "cell_type": "markdown",
   "metadata": {},
   "source": [
    "1. 输入要进行hash的文字"
   ]
  },
  {
   "cell_type": "code",
   "execution_count": 50,
   "metadata": {},
   "outputs": [],
   "source": [
    "# 修改\"\"内的文字内容\n",
    "data1 = '我正在学习HASH'\n"
   ]
  },
  {
   "cell_type": "code",
   "execution_count": 51,
   "metadata": {},
   "outputs": [
    {
     "name": "stdout",
     "output_type": "stream",
     "text": [
      "227d60f0e007402f3c95aea3b03c887da475a354\n"
     ]
    }
   ],
   "source": [
    "hash1 = hashlib.sha1()\n",
    "hash1.update((data1).encode('utf-8'))\n",
    "print(hash1.hexdigest())"
   ]
  },
  {
   "cell_type": "markdown",
   "metadata": {},
   "source": [
    "2. 简单修改文字"
   ]
  },
  {
   "cell_type": "code",
   "execution_count": 52,
   "metadata": {},
   "outputs": [],
   "source": [
    "data1 = '我正在学习HASH！！'"
   ]
  },
  {
   "cell_type": "markdown",
   "metadata": {},
   "source": [
    "大家看下文字的区别，HASH值会有变化吗？"
   ]
  },
  {
   "cell_type": "code",
   "execution_count": 53,
   "metadata": {},
   "outputs": [
    {
     "name": "stdout",
     "output_type": "stream",
     "text": [
      "d81b786b4d58fd505a246f55c7bd6c34c4098183\n"
     ]
    }
   ],
   "source": [
    "#hash1 = hashlib.sha1()\n",
    "hash1.update((data1).encode('utf-8'))\n",
    "print(hash1.hexdigest())"
   ]
  },
  {
   "cell_type": "code",
   "execution_count": 54,
   "metadata": {},
   "outputs": [],
   "source": [
    "data1 = '我正在学习HASH！！我正在学习HASH！！我正在学习HASH！！我正在学习HASH！！我正在学习HASH！！我正在学习HASH！！我正在学习HASH！！我正在学习HASH！！'"
   ]
  },
  {
   "cell_type": "code",
   "execution_count": 55,
   "metadata": {},
   "outputs": [
    {
     "name": "stdout",
     "output_type": "stream",
     "text": [
      "1fd88ae986f10d35904f3a1b2ed738f42b9473e4\n"
     ]
    }
   ],
   "source": [
    "hash1.update((data1).encode('utf-8'))\n",
    "print(hash1.hexdigest())"
   ]
  },
  {
   "cell_type": "markdown",
   "metadata": {},
   "source": [
    "- 大家观察HASH值，有什么特征？"
   ]
  }
 ],
 "metadata": {
  "kernelspec": {
   "display_name": "Python 2",
   "language": "python",
   "name": "python2"
  },
  "language_info": {
   "codemirror_mode": {
    "name": "ipython",
    "version": 3
   },
   "file_extension": ".py",
   "mimetype": "text/x-python",
   "name": "python",
   "nbconvert_exporter": "python",
   "pygments_lexer": "ipython3",
   "version": "3.6.5"
  }
 },
 "nbformat": 4,
 "nbformat_minor": 2
}
